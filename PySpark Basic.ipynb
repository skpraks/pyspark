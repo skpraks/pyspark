{
 "cells": [
  {
   "cell_type": "code",
   "execution_count": null,
   "metadata": {},
   "outputs": [],
   "source": [
    "!pip install pyspark"
   ]
  },
  {
   "cell_type": "code",
   "execution_count": 32,
   "metadata": {},
   "outputs": [],
   "source": [
    "import pyspark"
   ]
  },
  {
   "cell_type": "code",
   "execution_count": 33,
   "metadata": {},
   "outputs": [],
   "source": [
    "# import os\n",
    "# import sys\n",
    "\n",
    "# os.environ['PYSPARK_PYTHON'] = sys.executable\n",
    "# os.environ['PYSPARK_DRIVER_PYTHON'] = sys.executable"
   ]
  },
  {
   "cell_type": "code",
   "execution_count": 34,
   "metadata": {},
   "outputs": [
    {
     "data": {
      "text/html": [
       "\n",
       "            <div>\n",
       "                <p><b>SparkSession - in-memory</b></p>\n",
       "                \n",
       "        <div>\n",
       "            <p><b>SparkContext</b></p>\n",
       "\n",
       "            <p><a href=\"http://192.168.29.83:4040\">Spark UI</a></p>\n",
       "\n",
       "            <dl>\n",
       "              <dt>Version</dt>\n",
       "                <dd><code>v3.2.1</code></dd>\n",
       "              <dt>Master</dt>\n",
       "                <dd><code>local[*]</code></dd>\n",
       "              <dt>AppName</dt>\n",
       "                <dd><code>pysparkLearning</code></dd>\n",
       "            </dl>\n",
       "        </div>\n",
       "        \n",
       "            </div>\n",
       "        "
      ],
      "text/plain": [
       "<pyspark.sql.session.SparkSession at 0x101fcd72980>"
      ]
     },
     "execution_count": 34,
     "metadata": {},
     "output_type": "execute_result"
    }
   ],
   "source": [
    "#Start spark session\n",
    "from pyspark.sql import SparkSession\n",
    "ss = SparkSession.builder.appName('pysparkLearning').getOrCreate()\n",
    "ss"
   ]
  },
  {
   "cell_type": "code",
   "execution_count": 35,
   "metadata": {},
   "outputs": [
    {
     "name": "stdout",
     "output_type": "stream",
     "text": [
      "root\n",
      " |-- Last name: string (nullable = true)\n",
      " |--  \"First name\": string (nullable = true)\n",
      " |--  \"SSN\": string (nullable = true)\n",
      " |--         \"Test1\": string (nullable = true)\n",
      " |--  \"Test2\": double (nullable = true)\n",
      " |--  \"Test3\": double (nullable = true)\n",
      " |--  \"Test4\": double (nullable = true)\n",
      " |--  \"Final\": string (nullable = true)\n",
      " |--  \"Grade\": string (nullable = true)\n",
      "\n"
     ]
    }
   ],
   "source": [
    "pyspark_df = ss.read.option('header','true').csv(\"PySparkTestData.csv\",inferSchema=True)\n",
    "pyspark_df.printSchema()"
   ]
  },
  {
   "cell_type": "code",
   "execution_count": 36,
   "metadata": {},
   "outputs": [
    {
     "name": "stdout",
     "output_type": "stream",
     "text": [
      "+---------+----------------+--------------------+---------------+--------+--------+--------+--------+--------+\n",
      "|Last name|    \"First name\"|               \"SSN\"|        \"Test1\"| \"Test2\"| \"Test3\"| \"Test4\"| \"Final\"| \"Grade\"|\n",
      "+---------+----------------+--------------------+---------------+--------+--------+--------+--------+--------+\n",
      "|  Alfalfa|      \"Aloysius\"|       \"123-45-6789\"|           40.0|    90.0|   100.0|    83.0|    49.0|    \"D-\"|\n",
      "|   Alfred|    \"University\"|       \"123-12-1234\"|           41.0|    97.0|    96.0|    97.0|    48.0|    \"D+\"|\n",
      "|    Gerty|        \"Gramma\"|       \"567-89-0123\"|           41.0|    80.0|    60.0|    40.0|    44.0|     \"C\"|\n",
      "|  Android|      \"Electric\"|       \"087-65-4321\"|           42.0|    23.0|    36.0|    45.0|    47.0|    \"B-\"|\n",
      "|  Bumpkin|          \"Fred\"|       \"456-78-9012\"|           43.0|    78.0|    88.0|    77.0|    45.0|    \"A-\"|\n",
      "|   Rubble|         \"Betty\"|       \"234-56-7890\"|           44.0|    90.0|    80.0|    90.0|    46.0|    \"C-\"|\n",
      "|   Noshow|         \"Cecil\"|       \"345-67-8901\"|           45.0|    11.0|    -1.0|     4.0|    43.0|     \"F\"|\n",
      "|     Buff|           \"Bif\"|        \"632-79-9...|           46.0|    20.0|    30.0|    40.0|    50.0|    \"B+\"|\n",
      "|  Airpump|        \"Andrew\"|       \"223-45-6789\"|  49.0      1.0|    90.0|   100.0|    83.0|     \"A\"|    null|\n",
      "|   Backus|           \"Jim\"|        \"143-12-1...|           48.0|     1.0|    97.0|    96.0|    97.0|    \"A+\"|\n",
      "|Carnivore|           \"Art\"|        \"565-89-0...|           44.0|     1.0|    80.0|    60.0|    40.0|    \"D+\"|\n",
      "|    Dandy|           \"Jim\"|        \"087-75-4...|           47.0|     1.0|    23.0|    36.0|    45.0|    \"C+\"|\n",
      "| Elephant|           \"Ima\"|        \"456-71-9...|           45.0|     1.0|    78.0|    88.0|    77.0|    \"B-\"|\n",
      "| Franklin|         \"Benny\"|       \"234-56-2890\"|           50.0|     1.0|    90.0|    80.0|    90.0|    \"B-\"|\n",
      "|   George|           \"Boy\"|        \"345-67-3...|           40.0|     1.0|    11.0|    -1.0|     4.0|     \"B\"|\n",
      "|Heffalump|        \"Harvey\"|       \"632-79-9439\"|           30.0|     1.0|    20.0|    30.0|    40.0|     \"C\"|\n",
      "+---------+----------------+--------------------+---------------+--------+--------+--------+--------+--------+\n",
      "\n"
     ]
    }
   ],
   "source": [
    "pyspark_df.show()"
   ]
  },
  {
   "cell_type": "code",
   "execution_count": 37,
   "metadata": {},
   "outputs": [
    {
     "name": "stdout",
     "output_type": "stream",
     "text": [
      "<class 'pyspark.sql.dataframe.DataFrame'>\n",
      "[('Last name', 'string'), (' \"First name\"', 'string'), (' \"SSN\"', 'string'), ('        \"Test1\"', 'string'), (' \"Test2\"', 'double'), (' \"Test3\"', 'double'), (' \"Test4\"', 'double'), (' \"Final\"', 'string'), (' \"Grade\"', 'string')]\n"
     ]
    }
   ],
   "source": [
    "print(type(pyspark_df))\n",
    "\n",
    "print(pyspark_df.dtypes)\n"
   ]
  },
  {
   "cell_type": "code",
   "execution_count": 38,
   "metadata": {},
   "outputs": [
    {
     "data": {
      "text/plain": [
       "[Row(Last name='Alfalfa',  \"First name\"='   \"Aloysius\"',  \"SSN\"='   \"123-45-6789\"',         \"Test1\"=' 40.0',  \"Test2\"=90.0,  \"Test3\"=100.0,  \"Test4\"=83.0,  \"Final\"='    49.0',  \"Grade\"='   \"D-\"'),\n",
       " Row(Last name='Alfred',  \"First name\"='    \"University\"',  \"SSN\"=' \"123-12-1234\"',         \"Test1\"=' 41.0',  \"Test2\"=97.0,  \"Test3\"=96.0,  \"Test4\"=97.0,  \"Final\"='    48.0',  \"Grade\"='   \"D+\"'),\n",
       " Row(Last name='Gerty',  \"First name\"='     \"Gramma\"',  \"SSN\"='     \"567-89-0123\"',         \"Test1\"=' 41.0',  \"Test2\"=80.0,  \"Test3\"=60.0,  \"Test4\"=40.0,  \"Final\"='    44.0',  \"Grade\"='   \"C\"'),\n",
       " Row(Last name='Android',  \"First name\"='   \"Electric\"',  \"SSN\"='   \"087-65-4321\"',         \"Test1\"=' 42.0',  \"Test2\"=23.0,  \"Test3\"=36.0,  \"Test4\"=45.0,  \"Final\"='    47.0',  \"Grade\"='   \"B-\"'),\n",
       " Row(Last name='Bumpkin',  \"First name\"='   \"Fred\"',  \"SSN\"='       \"456-78-9012\"',         \"Test1\"=' 43.0',  \"Test2\"=78.0,  \"Test3\"=88.0,  \"Test4\"=77.0,  \"Final\"='    45.0',  \"Grade\"='   \"A-\"')]"
      ]
     },
     "execution_count": 38,
     "metadata": {},
     "output_type": "execute_result"
    }
   ],
   "source": [
    "pyspark_df.head(5)"
   ]
  },
  {
   "cell_type": "code",
   "execution_count": 39,
   "metadata": {},
   "outputs": [
    {
     "name": "stdout",
     "output_type": "stream",
     "text": [
      "+----------------+---------------+\n",
      "|    \"First name\"|        \"Test1\"|\n",
      "+----------------+---------------+\n",
      "|      \"Aloysius\"|           40.0|\n",
      "|    \"University\"|           41.0|\n",
      "|        \"Gramma\"|           41.0|\n",
      "|      \"Electric\"|           42.0|\n",
      "|          \"Fred\"|           43.0|\n",
      "|         \"Betty\"|           44.0|\n",
      "|         \"Cecil\"|           45.0|\n",
      "|           \"Bif\"|           46.0|\n",
      "|        \"Andrew\"|  49.0      1.0|\n",
      "|           \"Jim\"|           48.0|\n",
      "|           \"Art\"|           44.0|\n",
      "|           \"Jim\"|           47.0|\n",
      "|           \"Ima\"|           45.0|\n",
      "|         \"Benny\"|           50.0|\n",
      "|           \"Boy\"|           40.0|\n",
      "|        \"Harvey\"|           30.0|\n",
      "+----------------+---------------+\n",
      "\n"
     ]
    }
   ],
   "source": [
    "#Select columns\n",
    "pyspark_df.select([' \"First name\"','        \"Test1\"']).show()"
   ]
  },
  {
   "cell_type": "code",
   "execution_count": 40,
   "metadata": {},
   "outputs": [
    {
     "name": "stdout",
     "output_type": "stream",
     "text": [
      "+-------+-------------+-----------------+\n",
      "|summary| \"First name\"|          \"Test1\"|\n",
      "+-------+-------------+-----------------+\n",
      "|  count|           16|               16|\n",
      "|   mean|         null|43.06666666666667|\n",
      "| stddev|         null|4.667006790326364|\n",
      "|    min|        \"Bif\"|             30.0|\n",
      "|    max|     \"Harvey\"|             50.0|\n",
      "+-------+-------------+-----------------+\n",
      "\n"
     ]
    }
   ],
   "source": [
    "#describe dataframe\n",
    "pyspark_df.describe([' \"First name\"','        \"Test1\"']).show()"
   ]
  },
  {
   "cell_type": "code",
   "execution_count": 41,
   "metadata": {},
   "outputs": [],
   "source": [
    "#Add a new column\n",
    "from pyspark.sql.functions import lit\n",
    "pyspark_df=pyspark_df.withColumn(\"Test5\",lit(0.5))\n"
   ]
  },
  {
   "cell_type": "code",
   "execution_count": 42,
   "metadata": {},
   "outputs": [
    {
     "name": "stdout",
     "output_type": "stream",
     "text": [
      "+---------+----------------+--------------------+---------------+--------+--------+--------+--------+--------+-----+\n",
      "|Last name|    \"First name\"|               \"SSN\"|        \"Test1\"| \"Test2\"| \"Test3\"| \"Test4\"| \"Final\"| \"Grade\"|Test5|\n",
      "+---------+----------------+--------------------+---------------+--------+--------+--------+--------+--------+-----+\n",
      "|  Alfalfa|      \"Aloysius\"|       \"123-45-6789\"|           40.0|    90.0|   100.0|    83.0|    49.0|    \"D-\"|  0.5|\n",
      "|   Alfred|    \"University\"|       \"123-12-1234\"|           41.0|    97.0|    96.0|    97.0|    48.0|    \"D+\"|  0.5|\n",
      "|    Gerty|        \"Gramma\"|       \"567-89-0123\"|           41.0|    80.0|    60.0|    40.0|    44.0|     \"C\"|  0.5|\n",
      "|  Android|      \"Electric\"|       \"087-65-4321\"|           42.0|    23.0|    36.0|    45.0|    47.0|    \"B-\"|  0.5|\n",
      "|  Bumpkin|          \"Fred\"|       \"456-78-9012\"|           43.0|    78.0|    88.0|    77.0|    45.0|    \"A-\"|  0.5|\n",
      "|   Rubble|         \"Betty\"|       \"234-56-7890\"|           44.0|    90.0|    80.0|    90.0|    46.0|    \"C-\"|  0.5|\n",
      "|   Noshow|         \"Cecil\"|       \"345-67-8901\"|           45.0|    11.0|    -1.0|     4.0|    43.0|     \"F\"|  0.5|\n",
      "|     Buff|           \"Bif\"|        \"632-79-9...|           46.0|    20.0|    30.0|    40.0|    50.0|    \"B+\"|  0.5|\n",
      "|  Airpump|        \"Andrew\"|       \"223-45-6789\"|  49.0      1.0|    90.0|   100.0|    83.0|     \"A\"|    null|  0.5|\n",
      "|   Backus|           \"Jim\"|        \"143-12-1...|           48.0|     1.0|    97.0|    96.0|    97.0|    \"A+\"|  0.5|\n",
      "|Carnivore|           \"Art\"|        \"565-89-0...|           44.0|     1.0|    80.0|    60.0|    40.0|    \"D+\"|  0.5|\n",
      "|    Dandy|           \"Jim\"|        \"087-75-4...|           47.0|     1.0|    23.0|    36.0|    45.0|    \"C+\"|  0.5|\n",
      "| Elephant|           \"Ima\"|        \"456-71-9...|           45.0|     1.0|    78.0|    88.0|    77.0|    \"B-\"|  0.5|\n",
      "| Franklin|         \"Benny\"|       \"234-56-2890\"|           50.0|     1.0|    90.0|    80.0|    90.0|    \"B-\"|  0.5|\n",
      "|   George|           \"Boy\"|        \"345-67-3...|           40.0|     1.0|    11.0|    -1.0|     4.0|     \"B\"|  0.5|\n",
      "|Heffalump|        \"Harvey\"|       \"632-79-9439\"|           30.0|     1.0|    20.0|    30.0|    40.0|     \"C\"|  0.5|\n",
      "+---------+----------------+--------------------+---------------+--------+--------+--------+--------+--------+-----+\n",
      "\n"
     ]
    }
   ],
   "source": [
    "pyspark_df.show()"
   ]
  },
  {
   "cell_type": "code",
   "execution_count": 43,
   "metadata": {},
   "outputs": [
    {
     "name": "stdout",
     "output_type": "stream",
     "text": [
      "+---------+----------------+--------------------+---------------+--------+--------+--------+--------+--------+-----+-----+\n",
      "|Last name|    \"First name\"|               \"SSN\"|        \"Test1\"| \"Test2\"| \"Test3\"| \"Test4\"| \"Final\"| \"Grade\"|Test5|Test6|\n",
      "+---------+----------------+--------------------+---------------+--------+--------+--------+--------+--------+-----+-----+\n",
      "|  Alfalfa|      \"Aloysius\"|       \"123-45-6789\"|           40.0|    90.0|   100.0|    83.0|    49.0|    \"D-\"|  0.5|  2.0|\n",
      "|   Alfred|    \"University\"|       \"123-12-1234\"|           41.0|    97.0|    96.0|    97.0|    48.0|    \"D+\"|  0.5|  2.0|\n",
      "|    Gerty|        \"Gramma\"|       \"567-89-0123\"|           41.0|    80.0|    60.0|    40.0|    44.0|     \"C\"|  0.5|  2.0|\n",
      "|  Android|      \"Electric\"|       \"087-65-4321\"|           42.0|    23.0|    36.0|    45.0|    47.0|    \"B-\"|  0.5|  2.0|\n",
      "|  Bumpkin|          \"Fred\"|       \"456-78-9012\"|           43.0|    78.0|    88.0|    77.0|    45.0|    \"A-\"|  0.5|  2.0|\n",
      "|   Rubble|         \"Betty\"|       \"234-56-7890\"|           44.0|    90.0|    80.0|    90.0|    46.0|    \"C-\"|  0.5|  2.0|\n",
      "|   Noshow|         \"Cecil\"|       \"345-67-8901\"|           45.0|    11.0|    -1.0|     4.0|    43.0|     \"F\"|  0.5|  2.0|\n",
      "|     Buff|           \"Bif\"|        \"632-79-9...|           46.0|    20.0|    30.0|    40.0|    50.0|    \"B+\"|  0.5|  2.0|\n",
      "|  Airpump|        \"Andrew\"|       \"223-45-6789\"|  49.0      1.0|    90.0|   100.0|    83.0|     \"A\"|    null|  0.5|  2.0|\n",
      "|   Backus|           \"Jim\"|        \"143-12-1...|           48.0|     1.0|    97.0|    96.0|    97.0|    \"A+\"|  0.5|  2.0|\n",
      "|Carnivore|           \"Art\"|        \"565-89-0...|           44.0|     1.0|    80.0|    60.0|    40.0|    \"D+\"|  0.5|  2.0|\n",
      "|    Dandy|           \"Jim\"|        \"087-75-4...|           47.0|     1.0|    23.0|    36.0|    45.0|    \"C+\"|  0.5|  2.0|\n",
      "| Elephant|           \"Ima\"|        \"456-71-9...|           45.0|     1.0|    78.0|    88.0|    77.0|    \"B-\"|  0.5|  2.0|\n",
      "| Franklin|         \"Benny\"|       \"234-56-2890\"|           50.0|     1.0|    90.0|    80.0|    90.0|    \"B-\"|  0.5|  2.0|\n",
      "|   George|           \"Boy\"|        \"345-67-3...|           40.0|     1.0|    11.0|    -1.0|     4.0|     \"B\"|  0.5|  2.0|\n",
      "|Heffalump|        \"Harvey\"|       \"632-79-9439\"|           30.0|     1.0|    20.0|    30.0|    40.0|     \"C\"|  0.5|  2.0|\n",
      "+---------+----------------+--------------------+---------------+--------+--------+--------+--------+--------+-----+-----+\n",
      "\n"
     ]
    }
   ],
   "source": [
    "\n",
    "#using existing column add new col\n",
    "pyspark_df = pyspark_df.withColumn('Test6',pyspark_df.Test5*4)\n",
    "pyspark_df.show()"
   ]
  },
  {
   "cell_type": "code",
   "execution_count": 44,
   "metadata": {},
   "outputs": [
    {
     "name": "stdout",
     "output_type": "stream",
     "text": [
      "+---------+----------------+--------------------+---------------+--------+--------+--------+--------+--------+\n",
      "|Last name|    \"First name\"|               \"SSN\"|        \"Test1\"| \"Test2\"| \"Test3\"| \"Test4\"| \"Final\"| \"Grade\"|\n",
      "+---------+----------------+--------------------+---------------+--------+--------+--------+--------+--------+\n",
      "|  Alfalfa|      \"Aloysius\"|       \"123-45-6789\"|           40.0|    90.0|   100.0|    83.0|    49.0|    \"D-\"|\n",
      "|   Alfred|    \"University\"|       \"123-12-1234\"|           41.0|    97.0|    96.0|    97.0|    48.0|    \"D+\"|\n",
      "|    Gerty|        \"Gramma\"|       \"567-89-0123\"|           41.0|    80.0|    60.0|    40.0|    44.0|     \"C\"|\n",
      "|  Android|      \"Electric\"|       \"087-65-4321\"|           42.0|    23.0|    36.0|    45.0|    47.0|    \"B-\"|\n",
      "|  Bumpkin|          \"Fred\"|       \"456-78-9012\"|           43.0|    78.0|    88.0|    77.0|    45.0|    \"A-\"|\n",
      "|   Rubble|         \"Betty\"|       \"234-56-7890\"|           44.0|    90.0|    80.0|    90.0|    46.0|    \"C-\"|\n",
      "|   Noshow|         \"Cecil\"|       \"345-67-8901\"|           45.0|    11.0|    -1.0|     4.0|    43.0|     \"F\"|\n",
      "|     Buff|           \"Bif\"|        \"632-79-9...|           46.0|    20.0|    30.0|    40.0|    50.0|    \"B+\"|\n",
      "|  Airpump|        \"Andrew\"|       \"223-45-6789\"|  49.0      1.0|    90.0|   100.0|    83.0|     \"A\"|    null|\n",
      "|   Backus|           \"Jim\"|        \"143-12-1...|           48.0|     1.0|    97.0|    96.0|    97.0|    \"A+\"|\n",
      "|Carnivore|           \"Art\"|        \"565-89-0...|           44.0|     1.0|    80.0|    60.0|    40.0|    \"D+\"|\n",
      "|    Dandy|           \"Jim\"|        \"087-75-4...|           47.0|     1.0|    23.0|    36.0|    45.0|    \"C+\"|\n",
      "| Elephant|           \"Ima\"|        \"456-71-9...|           45.0|     1.0|    78.0|    88.0|    77.0|    \"B-\"|\n",
      "| Franklin|         \"Benny\"|       \"234-56-2890\"|           50.0|     1.0|    90.0|    80.0|    90.0|    \"B-\"|\n",
      "|   George|           \"Boy\"|        \"345-67-3...|           40.0|     1.0|    11.0|    -1.0|     4.0|     \"B\"|\n",
      "|Heffalump|        \"Harvey\"|       \"632-79-9439\"|           30.0|     1.0|    20.0|    30.0|    40.0|     \"C\"|\n",
      "+---------+----------------+--------------------+---------------+--------+--------+--------+--------+--------+\n",
      "\n"
     ]
    }
   ],
   "source": [
    "#drop column\n",
    "# pyspark_df.drop('Test5').show()\n",
    "pyspark_df = pyspark_df.drop('Test5','Test6')\n",
    "pyspark_df.show()"
   ]
  },
  {
   "cell_type": "code",
   "execution_count": 45,
   "metadata": {},
   "outputs": [
    {
     "data": {
      "text/plain": [
       "['Last name',\n",
       " ' \"First name\"',\n",
       " ' \"SSN\"',\n",
       " '        \"Test1\"',\n",
       " ' \"Test2\"',\n",
       " ' \"Test3\"',\n",
       " ' \"Test4\"',\n",
       " ' \"Final\"',\n",
       " ' \"Grade\"']"
      ]
     },
     "execution_count": 45,
     "metadata": {},
     "output_type": "execute_result"
    }
   ],
   "source": [
    "pyspark_df.columns"
   ]
  },
  {
   "cell_type": "code",
   "execution_count": 46,
   "metadata": {},
   "outputs": [
    {
     "name": "stdout",
     "output_type": "stream",
     "text": [
      "+---------+----------------+--------------------+--------------+-----+-----+-----+--------+-------+\n",
      "| LastName|       FirstName|                 SSN|         Test1|Test2|Test3|Test4|   Final|  Grade|\n",
      "+---------+----------------+--------------------+--------------+-----+-----+-----+--------+-------+\n",
      "|  Alfalfa|      \"Aloysius\"|       \"123-45-6789\"|          40.0| 90.0|100.0| 83.0|    49.0|   \"D-\"|\n",
      "|   Alfred|    \"University\"|       \"123-12-1234\"|          41.0| 97.0| 96.0| 97.0|    48.0|   \"D+\"|\n",
      "|    Gerty|        \"Gramma\"|       \"567-89-0123\"|          41.0| 80.0| 60.0| 40.0|    44.0|    \"C\"|\n",
      "|  Android|      \"Electric\"|       \"087-65-4321\"|          42.0| 23.0| 36.0| 45.0|    47.0|   \"B-\"|\n",
      "|  Bumpkin|          \"Fred\"|       \"456-78-9012\"|          43.0| 78.0| 88.0| 77.0|    45.0|   \"A-\"|\n",
      "|   Rubble|         \"Betty\"|       \"234-56-7890\"|          44.0| 90.0| 80.0| 90.0|    46.0|   \"C-\"|\n",
      "|   Noshow|         \"Cecil\"|       \"345-67-8901\"|          45.0| 11.0| -1.0|  4.0|    43.0|    \"F\"|\n",
      "|     Buff|           \"Bif\"|        \"632-79-9...|          46.0| 20.0| 30.0| 40.0|    50.0|   \"B+\"|\n",
      "|  Airpump|        \"Andrew\"|       \"223-45-6789\"| 49.0      1.0| 90.0|100.0| 83.0|     \"A\"|   null|\n",
      "|   Backus|           \"Jim\"|        \"143-12-1...|          48.0|  1.0| 97.0| 96.0|    97.0|   \"A+\"|\n",
      "|Carnivore|           \"Art\"|        \"565-89-0...|          44.0|  1.0| 80.0| 60.0|    40.0|   \"D+\"|\n",
      "|    Dandy|           \"Jim\"|        \"087-75-4...|          47.0|  1.0| 23.0| 36.0|    45.0|   \"C+\"|\n",
      "| Elephant|           \"Ima\"|        \"456-71-9...|          45.0|  1.0| 78.0| 88.0|    77.0|   \"B-\"|\n",
      "| Franklin|         \"Benny\"|       \"234-56-2890\"|          50.0|  1.0| 90.0| 80.0|    90.0|   \"B-\"|\n",
      "|   George|           \"Boy\"|        \"345-67-3...|          40.0|  1.0| 11.0| -1.0|     4.0|    \"B\"|\n",
      "|Heffalump|        \"Harvey\"|       \"632-79-9439\"|          30.0|  1.0| 20.0| 30.0|    40.0|    \"C\"|\n",
      "+---------+----------------+--------------------+--------------+-----+-----+-----+--------+-------+\n",
      "\n"
     ]
    }
   ],
   "source": [
    "#column rename\n",
    "pyspark_df = pyspark_df.withColumnRenamed('Last name','LastName')\\\n",
    "            .withColumnRenamed(' \"First name\"','FirstName')\\\n",
    "            .withColumnRenamed(' \"SSN\"','SSN')\\\n",
    "            .withColumnRenamed('        \"Test1\"','Test1')\\\n",
    "            .withColumnRenamed(' \"Test2\"','Test2')\\\n",
    "            .withColumnRenamed(' \"Test3\"','Test3')\\\n",
    "            .withColumnRenamed(' \"Test4\"','Test4')\\\n",
    "            .withColumnRenamed(' \"Final\"','Final')\\\n",
    "            .withColumnRenamed(' \"Grade\"','Grade')\n",
    "pyspark_df.show()"
   ]
  },
  {
   "cell_type": "code",
   "execution_count": 47,
   "metadata": {},
   "outputs": [
    {
     "data": {
      "text/plain": [
       "['LastName',\n",
       " 'FirstName',\n",
       " 'SSN',\n",
       " 'Test1',\n",
       " 'Test2',\n",
       " 'Test3',\n",
       " 'Test4',\n",
       " 'Final',\n",
       " 'Grade']"
      ]
     },
     "execution_count": 47,
     "metadata": {},
     "output_type": "execute_result"
    }
   ],
   "source": [
    "pyspark_df.columns"
   ]
  },
  {
   "cell_type": "code",
   "execution_count": 48,
   "metadata": {},
   "outputs": [
    {
     "name": "stdout",
     "output_type": "stream",
     "text": [
      "+---------+----------------+--------------------+--------------+-----+-----+-----+--------+-------+-----+\n",
      "| LastName|       FirstName|                 SSN|         Test1|Test2|Test3|Test4|   Final|  Grade|Test6|\n",
      "+---------+----------------+--------------------+--------------+-----+-----+-----+--------+-------+-----+\n",
      "|  Alfalfa|      \"Aloysius\"|       \"123-45-6789\"|          40.0| 90.0|100.0| 83.0|    49.0|   \"D-\"|200.0|\n",
      "|   Alfred|    \"University\"|       \"123-12-1234\"|          41.0| 97.0| 96.0| 97.0|    48.0|   \"D+\"|205.0|\n",
      "|    Gerty|        \"Gramma\"|       \"567-89-0123\"|          41.0| 80.0| 60.0| 40.0|    44.0|    \"C\"|205.0|\n",
      "|  Android|      \"Electric\"|       \"087-65-4321\"|          42.0| 23.0| 36.0| 45.0|    47.0|   \"B-\"|210.0|\n",
      "|  Bumpkin|          \"Fred\"|       \"456-78-9012\"|          43.0| 78.0| 88.0| 77.0|    45.0|   \"A-\"|215.0|\n",
      "|   Rubble|         \"Betty\"|       \"234-56-7890\"|          44.0| 90.0| 80.0| 90.0|    46.0|   \"C-\"|220.0|\n",
      "|   Noshow|         \"Cecil\"|       \"345-67-8901\"|          45.0| 11.0| -1.0|  4.0|    43.0|    \"F\"|225.0|\n",
      "|     Buff|           \"Bif\"|        \"632-79-9...|          46.0| 20.0| 30.0| 40.0|    50.0|   \"B+\"|230.0|\n",
      "|  Airpump|        \"Andrew\"|       \"223-45-6789\"| 49.0      1.0| 90.0|100.0| 83.0|     \"A\"|   null| null|\n",
      "|   Backus|           \"Jim\"|        \"143-12-1...|          48.0|  1.0| 97.0| 96.0|    97.0|   \"A+\"|240.0|\n",
      "|Carnivore|           \"Art\"|        \"565-89-0...|          44.0|  1.0| 80.0| 60.0|    40.0|   \"D+\"|220.0|\n",
      "|    Dandy|           \"Jim\"|        \"087-75-4...|          47.0|  1.0| 23.0| 36.0|    45.0|   \"C+\"|235.0|\n",
      "| Elephant|           \"Ima\"|        \"456-71-9...|          45.0|  1.0| 78.0| 88.0|    77.0|   \"B-\"|225.0|\n",
      "| Franklin|         \"Benny\"|       \"234-56-2890\"|          50.0|  1.0| 90.0| 80.0|    90.0|   \"B-\"|250.0|\n",
      "|   George|           \"Boy\"|        \"345-67-3...|          40.0|  1.0| 11.0| -1.0|     4.0|    \"B\"|200.0|\n",
      "|Heffalump|        \"Harvey\"|       \"632-79-9439\"|          30.0|  1.0| 20.0| 30.0|    40.0|    \"C\"|150.0|\n",
      "+---------+----------------+--------------------+--------------+-----+-----+-----+--------+-------+-----+\n",
      "\n"
     ]
    }
   ],
   "source": [
    "#Add column using list as input with existing column\n",
    "pyspark_df.withColumn('Test6', pyspark_df['Test1']*5).show()"
   ]
  },
  {
   "cell_type": "code",
   "execution_count": 49,
   "metadata": {},
   "outputs": [
    {
     "name": "stdout",
     "output_type": "stream",
     "text": [
      "+--------+----------------+----------------+-----+-----+-----+-----+--------+-------+\n",
      "|LastName|       FirstName|             SSN|Test1|Test2|Test3|Test4|   Final|  Grade|\n",
      "+--------+----------------+----------------+-----+-----+-----+-----+--------+-------+\n",
      "| Alfalfa|      \"Aloysius\"|   \"123-45-6789\"| 40.0| 90.0|100.0| 83.0|    49.0|   \"D-\"|\n",
      "|  Alfred|    \"University\"|   \"123-12-1234\"| 41.0| 97.0| 96.0| 97.0|    48.0|   \"D+\"|\n",
      "+--------+----------------+----------------+-----+-----+-----+-----+--------+-------+\n",
      "\n"
     ]
    }
   ],
   "source": [
    "#filter rows based on column condition\n",
    "lname = ['Alfalfa','Alfred']\n",
    "pyspark_df.where(pyspark_df.LastName.isin(lname)).show()"
   ]
  },
  {
   "cell_type": "code",
   "execution_count": 50,
   "metadata": {},
   "outputs": [
    {
     "name": "stdout",
     "output_type": "stream",
     "text": [
      "+---------+-------------+--------------------+--------------+-----+-----+-----+--------+-------+\n",
      "| LastName|    FirstName|                 SSN|         Test1|Test2|Test3|Test4|   Final|  Grade|\n",
      "+---------+-------------+--------------------+--------------+-----+-----+-----+--------+-------+\n",
      "|    Gerty|     \"Gramma\"|       \"567-89-0123\"|          41.0| 80.0| 60.0| 40.0|    44.0|    \"C\"|\n",
      "|  Android|   \"Electric\"|       \"087-65-4321\"|          42.0| 23.0| 36.0| 45.0|    47.0|   \"B-\"|\n",
      "|  Bumpkin|       \"Fred\"|       \"456-78-9012\"|          43.0| 78.0| 88.0| 77.0|    45.0|   \"A-\"|\n",
      "|   Rubble|      \"Betty\"|       \"234-56-7890\"|          44.0| 90.0| 80.0| 90.0|    46.0|   \"C-\"|\n",
      "|   Noshow|      \"Cecil\"|       \"345-67-8901\"|          45.0| 11.0| -1.0|  4.0|    43.0|    \"F\"|\n",
      "|     Buff|        \"Bif\"|        \"632-79-9...|          46.0| 20.0| 30.0| 40.0|    50.0|   \"B+\"|\n",
      "|  Airpump|     \"Andrew\"|       \"223-45-6789\"| 49.0      1.0| 90.0|100.0| 83.0|     \"A\"|   null|\n",
      "|   Backus|        \"Jim\"|        \"143-12-1...|          48.0|  1.0| 97.0| 96.0|    97.0|   \"A+\"|\n",
      "|Carnivore|        \"Art\"|        \"565-89-0...|          44.0|  1.0| 80.0| 60.0|    40.0|   \"D+\"|\n",
      "|    Dandy|        \"Jim\"|        \"087-75-4...|          47.0|  1.0| 23.0| 36.0|    45.0|   \"C+\"|\n",
      "| Elephant|        \"Ima\"|        \"456-71-9...|          45.0|  1.0| 78.0| 88.0|    77.0|   \"B-\"|\n",
      "| Franklin|      \"Benny\"|       \"234-56-2890\"|          50.0|  1.0| 90.0| 80.0|    90.0|   \"B-\"|\n",
      "|   George|        \"Boy\"|        \"345-67-3...|          40.0|  1.0| 11.0| -1.0|     4.0|    \"B\"|\n",
      "|Heffalump|     \"Harvey\"|       \"632-79-9439\"|          30.0|  1.0| 20.0| 30.0|    40.0|    \"C\"|\n",
      "+---------+-------------+--------------------+--------------+-----+-----+-----+--------+-------+\n",
      "\n"
     ]
    }
   ],
   "source": [
    "#filter rows based on column condition with negation\n",
    "lname = ['Alfalfa','Alfred']\n",
    "pyspark_df.where(~pyspark_df.LastName.isin(lname)).show()"
   ]
  },
  {
   "cell_type": "code",
   "execution_count": null,
   "metadata": {},
   "outputs": [],
   "source": []
  },
  {
   "cell_type": "code",
   "execution_count": null,
   "metadata": {},
   "outputs": [],
   "source": []
  }
 ],
 "metadata": {
  "kernelspec": {
   "display_name": "pysparkEnv2",
   "language": "python",
   "name": "pysparkenv2"
  },
  "language_info": {
   "codemirror_mode": {
    "name": "ipython",
    "version": 3
   },
   "file_extension": ".py",
   "mimetype": "text/x-python",
   "name": "python",
   "nbconvert_exporter": "python",
   "pygments_lexer": "ipython3",
   "version": "3.10.3"
  }
 },
 "nbformat": 4,
 "nbformat_minor": 4
}
